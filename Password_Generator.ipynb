{
 "cells": [
  {
   "cell_type": "code",
   "execution_count": 13,
   "id": "55728b51-1f71-4342-a95f-c95c023facad",
   "metadata": {
    "tags": []
   },
   "outputs": [],
   "source": [
    "#Generating list of characters.\n",
    "\n",
    "alphabets=['A','a','B','b','C','c','D','d','E','e','F','f','G','g','H','h','I','i','J','j',\n",
    "           'K','k','L','l','M','m','N','n','O','o','P','p','Q','q','R','r','S','s','T','t'\n",
    "           ,'U','u','V','v','W','w','X','x','Y','y','Z','z']\n",
    "digits=['0','1','2','3','4','5','6','7','8','9']\n",
    "special_characters=['!','@','#','$','%','^','&','*','{','}']\n"
   ]
  },
  {
   "cell_type": "code",
   "execution_count": 9,
   "id": "09e87222-4181-4945-b028-8962aed000dd",
   "metadata": {
    "tags": []
   },
   "outputs": [
    {
     "name": "stdout",
     "output_type": "stream",
     "text": [
      "9\n",
      "Your super password is cUF6}Jlk*\n"
     ]
    }
   ],
   "source": [
    "# import random module to work on picking random characters.\n",
    "\n",
    "import random\n",
    "\n",
    "\n",
    "print(\"Ready to generate your super password? \")\n",
    "no_of_alphabets= int(input(\"Please specify how many alphabets you would like in your password.\\n\")) \n",
    "no_of_digits= int(input(f\"Please specify how many digits you would like in your password.\\n\"))\n",
    "no_of_special_characters= int(input(f\"Please specify how many special_characters you would like in your password.\\n\"))\n",
    "# Let's start wih an empty string to store password as we move on.\n",
    "\n",
    "p=\"\"\n",
    "\n",
    "# Creating master list by adding all three lists.\n",
    "mlist=alphabets+digits+special_characters\n",
    "\n",
    "Password_length=no_of_alphabets+no_of_digits+no_of_special_characters\n",
    "\n",
    "print(Password_length)\n",
    "\n",
    "for m in range (1, Password_length+1):\n",
    "  random_password=random.choice(mlist)\n",
    "  p+=random_password\n",
    "  \n",
    "print(f\"Your super password is {p}\")"
   ]
  },
  {
   "cell_type": "code",
   "execution_count": 22,
   "id": "464299d0-2820-4af3-a5bf-a6e4313fa276",
   "metadata": {
    "tags": []
   },
   "outputs": [
    {
     "name": "stdout",
     "output_type": "stream",
     "text": [
      "Ready to generate your super password? \n"
     ]
    },
    {
     "name": "stdin",
     "output_type": "stream",
     "text": [
      "Please specify how many alphabets you would like in your password.\n",
      " 4\n",
      "Please specify how many digits you would like in your password.\n",
      " 4\n",
      "Please specify how many special_characters you would like in your password.\n",
      " 5\n"
     ]
    },
    {
     "name": "stdout",
     "output_type": "stream",
     "text": [
      "['r', 'n', 'F', 'c', '0', '6', '2', '0', '#', '%', '{', '$', '$']\n",
      "Your super password is  F%0${r20cn6$#\n"
     ]
    }
   ],
   "source": [
    "import random\n",
    "\n",
    "print(\"Ready to generate your super password? \")\n",
    "no_of_alphabets= int(input(\"Please specify how many alphabets you would like in your password.\\n\")) \n",
    "no_of_digits= int(input(f\"Please specify how many digits you would like in your password.\\n\"))\n",
    "no_of_special_characters= int(input(f\"Please specify how many special_characters you would like in your password.\\n\"))\n",
    "\n",
    "#password list\n",
    "p_l=[]\n",
    "mlist=alphabets+digits+special_characters\n",
    "\n",
    "Password_length=no_of_alphabets+no_of_digits+no_of_special_characters\n",
    "\n",
    "for al in range(1, no_of_alphabets+1):\n",
    "    random_alphabet=random.choice(alphabets)\n",
    "    p_l.append(random_alphabet)\n",
    "    \n",
    "for dg in range(1, no_of_digits+1):\n",
    "    random_digit=random.choice(digits)\n",
    "    p_l.append(random_digit)\n",
    "    \n",
    "for sc in range(1, no_of_special_characters+1):\n",
    "    random_special_character=random.choice(special_characters)\n",
    "    p_l.append(random_special_character)\n",
    "    \n",
    "print(p_l)\n",
    "\n",
    "random.shuffle(p_l)\n",
    "\n",
    "# #converting this list back to a string\n",
    "\n",
    "pswd=\" \"\n",
    "\n",
    "for character in p_l:\n",
    "    pswd+=character\n",
    "\n",
    "print (f\"Your super password is {pswd}\")\n"
   ]
  },
  {
   "cell_type": "code",
   "execution_count": null,
   "id": "5ca623fb-0698-40e0-8524-806fbf745dd7",
   "metadata": {},
   "outputs": [],
   "source": []
  }
 ],
 "metadata": {
  "kernelspec": {
   "display_name": "Python 3 (ipykernel)",
   "language": "python",
   "name": "python3"
  },
  "language_info": {
   "codemirror_mode": {
    "name": "ipython",
    "version": 3
   },
   "file_extension": ".py",
   "mimetype": "text/x-python",
   "name": "python",
   "nbconvert_exporter": "python",
   "pygments_lexer": "ipython3",
   "version": "3.11.3"
  }
 },
 "nbformat": 4,
 "nbformat_minor": 5
}
